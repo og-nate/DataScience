{
 "cells": [
  {
   "cell_type": "markdown",
   "metadata": {},
   "source": [
    "# QUESTION 1"
   ]
  },
  {
   "cell_type": "code",
   "execution_count": 35,
   "metadata": {},
   "outputs": [
    {
     "name": "stdout",
     "output_type": "stream",
     "text": [
      "1001,1008,1022,1029,1036,1043,1057,1064,1071,1078,1092,1099,1106,1113,1127,1134,1141,1148,1162,1169,1176,1183,1197,1204,1211,1218,1232,1239,1246,1253,1267,1274,1281,1288,1302,1309,1316,1323,1337,1344,1351,1358,1372,1379,1386,1393,1407,1414,1421,1428,1442,1449,1456,1463,1477,1484,1491,1498,1512,1519,1526,1533,1547,1554,1561,1568,1582,1589,1596,1603,1617,1624,1631,1638,1652,1659,1666,1673,1687,1694,1701,1708,1722,1729,1736,1743,1757,1764,1771,1778,1792,1799,1806,1813,1827,1834,1841,1848,1862,1869,1876,1883,1897,1904,1911,1918,1932,1939,1946,1953,1967,1974,1981,1988,2002,2009,2016,2023,2037,2044,2051,2058,2072,2079,2086,2093,2107,2114,2121,2128,2142,2149,2156,2163,2177,2184,2191,2198\n"
     ]
    }
   ],
   "source": [
    "\n",
    "#Write a program which will find all such numbers which are divisible by 7 but are not a multiple of 5, between 1000 and 2200 \n",
    "#(both included). The numbers obtained should be printed in a comma-separated sequence on a single line.\n",
    "\n",
    "nate = []\n",
    "for i in range(1000, 2201):\n",
    "    if (i%7 ==0) and (i%5 != 0):\n",
    "        nate.append(str(i))\n",
    "        \n",
    "print(','.join(nate))\n",
    "\n"
   ]
  },
  {
   "cell_type": "markdown",
   "metadata": {},
   "source": [
    "# QUESTION 2"
   ]
  },
  {
   "cell_type": "code",
   "execution_count": 36,
   "metadata": {},
   "outputs": [
    {
     "name": "stdout",
     "output_type": "stream",
     "text": [
      "Enter Your First Name: Nathaniel\n",
      "Enter Your Last Name: Ibude\n",
      "Ibude Nathaniel\n"
     ]
    }
   ],
   "source": [
    "\n",
    "#Write a Python program to accept the user's first and last name and then getting them printed in the reverse order \n",
    "#with a space between first name and last name.\n",
    "\n",
    "x = input(\"Enter Your First Name: \")\n",
    "y = input(\"Enter Your Last Name: \")\n",
    "print(y,x)"
   ]
  },
  {
   "cell_type": "markdown",
   "metadata": {},
   "source": [
    "# QUESTION 3"
   ]
  },
  {
   "cell_type": "code",
   "execution_count": 38,
   "metadata": {},
   "outputs": [
    {
     "name": "stdout",
     "output_type": "stream",
     "text": [
      "Enter your first value: 23876\n",
      "Enter your second value: 34567\n",
      "Enter your thrird value: 765432\n",
      "Enter your fourth value: 234567\n",
      "Enter your fifth value: 8765323\n",
      "Enter your sixth value: 24668\n",
      "Enter your seventh value: 545423\n",
      "Enter your eight value: 5341\n",
      "Enter your ninth value: 43676\n",
      "Enter your tenth value: 435413\n",
      "[34567, 234567, 8765323, 545423, 5341, 435413] are the odd numbers\n",
      "5341 is the minimum number\n",
      "8765323 is the maximum number\n",
      "1670105.6666666667 is the mean of the odd numbers\n",
      "THANK YOU :)\n"
     ]
    }
   ],
   "source": [
    "\n",
    "\n",
    "\n",
    "#Write a program to take ten numbers from a user and display \n",
    "#the minimum, mean, and maximum of the non-even numbers.\n",
    "\n",
    "\n",
    "\n",
    "a = int(input(\"Enter your first value: \"))\n",
    "b = int(input(\"Enter your second value: \"))\n",
    "c = int(input(\"Enter your third value: \"))\n",
    "d = int(input(\"Enter your fourth value: \"))\n",
    "e = int(input(\"Enter your fifth value: \"))\n",
    "f = int(input(\"Enter your sixth value: \"))\n",
    "g = int(input(\"Enter your seventh value: \"))\n",
    "h = int(input(\"Enter your eight value: \"))\n",
    "i = int(input(\"Enter your ninth value: \"))\n",
    "j = int(input(\"Enter your tenth value: \"))\n",
    "\n",
    "list_of_user_input=[a, b, c, d, e, f, g, h, i, j]\n",
    "\n",
    "#To find the odd numbers\n",
    "odd_num = [i for i in list_of_user_input if i % 2 != 0]\n",
    "print(odd_num, 'are the odd numbers')\n",
    "\n",
    "#to find the minimum and maximum of the odd numbers\n",
    "min(odd_num)\n",
    "print(min(odd_num), 'is the minimum number')\n",
    "max(odd_num)\n",
    "print(max(odd_num), 'is the maximum number')\n",
    "\n",
    "# To find the mean, I used statistics import\n",
    "import statistics\n",
    "statistics.mean(odd_num)\n",
    "print(statistics.mean(odd_num), \"is the mean of the odd numbers\")\n",
    "\n",
    "print(\"THANK YOU :)\")\n",
    "\n",
    "\n",
    "\n",
    "\n",
    "\n"
   ]
  },
  {
   "cell_type": "markdown",
   "metadata": {},
   "source": [
    "#### "
   ]
  }
 ],
 "metadata": {
  "kernelspec": {
   "display_name": "Python 3",
   "language": "python",
   "name": "python3"
  },
  "language_info": {
   "codemirror_mode": {
    "name": "ipython",
    "version": 3
   },
   "file_extension": ".py",
   "mimetype": "text/x-python",
   "name": "python",
   "nbconvert_exporter": "python",
   "pygments_lexer": "ipython3",
   "version": "3.7.6"
  }
 },
 "nbformat": 4,
 "nbformat_minor": 4
}
